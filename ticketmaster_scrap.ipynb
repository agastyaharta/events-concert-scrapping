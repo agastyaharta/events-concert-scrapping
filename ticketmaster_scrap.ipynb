{
 "cells": [
  {
   "cell_type": "code",
   "execution_count": null,
   "id": "d59db363-b050-4839-b620-897248d7188d",
   "metadata": {},
   "outputs": [],
   "source": [
    "# FOR DATA PROCESSING:\n",
    "import pandas as pd\n",
    "import numpy as np\n",
    "\n",
    "# FOR MEASURING COMPUTATION TIME, CREATING FIXED DELAYS:\n",
    "import time\n",
    "\n",
    "# FOR APPLYING SELENIUM:\n",
    "import selenium # Python Selenium\n",
    "from selenium import webdriver # for specifying webdriver\n",
    "\n",
    "from webdriver_manager.chrome import ChromeDriverManager # chromedriver for automatized access to Chrome\n",
    "\n",
    "from selenium.webdriver.chrome.service import Service # needed since Selenium 4.10.0 see: https://github.com/SeleniumHQ/selenium/commit/9f5801c82fb3be3d5850707c46c3f8176e3ccd8e\n",
    "\n",
    "from selenium.webdriver.support.ui import WebDriverWait # this three enable waiting until sth is displayed on website\n",
    "from selenium.webdriver.support import expected_conditions as EC # for checking visibility of an element\n",
    "from selenium.webdriver.common.by import By # for checking element visibility by XPath\n",
    "\n",
    "# FOR SAVING DATA:\n",
    "import pickle # pickle format of saved output\n",
    "\n",
    "def save_object(obj, filename): #  function defined for saving Python objects\n",
    "    with open(filename, 'wb') as output: # overwrites any existing file\n",
    "        pickle.dump(obj, output, pickle.HIGHEST_PROTOCOL)"
   ]
  },
  {
   "cell_type": "code",
   "execution_count": null,
   "id": "66090bed-4e46-4061-8991-026a08c795dd",
   "metadata": {},
   "outputs": [
    {
     "name": "stdout",
     "output_type": "stream",
     "text": [
      "C:\\Users\\Lukasz\\.wdm\\drivers\\chromedriver\\win64\\134.0.6998.88\\chromedriver-win32/chromedriver.exe\n",
      "C:\\Users\\Lukasz\\.wdm\\drivers\\geckodriver\\win64\\v0.36.0\\geckodriver.exe\n",
      "C:\\Users\\Lukasz\\.wdm\\drivers\\edgedriver\\win64\\134.0.3124.72\\msedgedriver.exe\n"
     ]
    }
   ],
   "source": [
    "firefoxpath = GeckoDriverManager().install(); print(firefoxpath)"
   ]
  },
  {
   "cell_type": "code",
   "execution_count": 7,
   "id": "e5121fe1-5bcc-42dd-b787-1f20b4c5c25f",
   "metadata": {},
   "outputs": [],
   "source": [
    "website = \"https://www.ticketmaster.com/discover/concerts\"\n",
    "\n",
    "service_firefox = Service(executable_path = firefoxpath) \n",
    "options_firefox = webdriver.FirefoxOptions()\n",
    "driver_firefox = webdriver.Firefox(service = service_firefox, options = options_firefox) # opens Firefox\n",
    "\n",
    "driver_firefox.maximize_window() # maximizes browser's window\n",
    "driver_firefox.get(website) # opens a website"
   ]
  },
  {
   "cell_type": "code",
   "execution_count": 9,
   "id": "287e4bf1-c8a8-4e2c-aef4-5c6d97592e4f",
   "metadata": {},
   "outputs": [],
   "source": [
    "website = \"https://www.ticketmaster.com/discover/concerts\"\n",
    "\n",
    "service_firefox = Service(executable_path = firefoxpath) \n",
    "options_firefox = webdriver.FirefoxOptions()\n",
    "driver_firefox = webdriver.Firefox(service = service_firefox, options = options_firefox) # opens Firefox\n",
    "\n",
    "driver_firefox.maximize_window() # maximizes browser's window\n",
    "driver_firefox.get(website) # opens a website\n",
    "\n",
    "cookies_button_xpath = '''//button[@id='onetrust-accept-btn-handler']'''\n",
    "\n",
    "# wait at most 30 seconds until cookies button is visible\n",
    "WebDriverWait(driver_firefox, 30).until(EC.visibility_of_element_located((By.XPATH, cookies_button_xpath))) \n",
    "\n",
    "# + wait random time drawn from specific (strongly right-side-skewed) distribution to better imitate human behavior\n",
    "time.sleep(np.random.chisquare(1)+3)\n",
    "\n",
    "content = driver_firefox.find_element(\"xpath\", cookies_button_xpath) # finds the button\n",
    "content.click() # clicks the button"
   ]
  }
 ],
 "metadata": {
  "kernelspec": {
   "display_name": "Python [conda env:base] *",
   "language": "python",
   "name": "conda-base-py"
  },
  "language_info": {
   "codemirror_mode": {
    "name": "ipython",
    "version": 3
   },
   "file_extension": ".py",
   "mimetype": "text/x-python",
   "name": "python",
   "nbconvert_exporter": "python",
   "pygments_lexer": "ipython3",
   "version": "3.12.7"
  }
 },
 "nbformat": 4,
 "nbformat_minor": 5
}
