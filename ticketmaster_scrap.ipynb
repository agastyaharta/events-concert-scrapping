{
 "cells": [
  {
   "cell_type": "code",
   "execution_count": 11,
   "id": "2717497b-63a0-48ce-b819-2b00869efa1f",
   "metadata": {},
   "outputs": [
    {
     "name": "stdout",
     "output_type": "stream",
     "text": [
      "Requirement already satisfied: selenium in c:\\users\\lukasz\\anaconda3\\lib\\site-packages (4.29.0)\n",
      "Requirement already satisfied: webdriver_manager in c:\\users\\lukasz\\anaconda3\\lib\\site-packages (4.0.2)\n",
      "Requirement already satisfied: urllib3<3,>=1.26 in c:\\users\\lukasz\\anaconda3\\lib\\site-packages (from urllib3[socks]<3,>=1.26->selenium) (2.2.3)\n",
      "Requirement already satisfied: trio~=0.17 in c:\\users\\lukasz\\anaconda3\\lib\\site-packages (from selenium) (0.29.0)\n",
      "Requirement already satisfied: trio-websocket~=0.9 in c:\\users\\lukasz\\anaconda3\\lib\\site-packages (from selenium) (0.12.2)\n",
      "Requirement already satisfied: certifi>=2021.10.8 in c:\\users\\lukasz\\anaconda3\\lib\\site-packages (from selenium) (2025.1.31)\n",
      "Requirement already satisfied: typing_extensions~=4.9 in c:\\users\\lukasz\\anaconda3\\lib\\site-packages (from selenium) (4.11.0)\n",
      "Requirement already satisfied: websocket-client~=1.8 in c:\\users\\lukasz\\anaconda3\\lib\\site-packages (from selenium) (1.8.0)\n",
      "Requirement already satisfied: requests in c:\\users\\lukasz\\anaconda3\\lib\\site-packages (from webdriver_manager) (2.32.3)\n",
      "Requirement already satisfied: python-dotenv in c:\\users\\lukasz\\anaconda3\\lib\\site-packages (from webdriver_manager) (0.21.0)\n",
      "Requirement already satisfied: packaging in c:\\users\\lukasz\\anaconda3\\lib\\site-packages (from webdriver_manager) (24.1)\n",
      "Requirement already satisfied: attrs>=23.2.0 in c:\\users\\lukasz\\anaconda3\\lib\\site-packages (from trio~=0.17->selenium) (25.3.0)\n",
      "Requirement already satisfied: sortedcontainers in c:\\users\\lukasz\\anaconda3\\lib\\site-packages (from trio~=0.17->selenium) (2.4.0)\n",
      "Requirement already satisfied: idna in c:\\users\\lukasz\\anaconda3\\lib\\site-packages (from trio~=0.17->selenium) (3.7)\n",
      "Requirement already satisfied: outcome in c:\\users\\lukasz\\anaconda3\\lib\\site-packages (from trio~=0.17->selenium) (1.3.0.post0)\n",
      "Requirement already satisfied: sniffio>=1.3.0 in c:\\users\\lukasz\\anaconda3\\lib\\site-packages (from trio~=0.17->selenium) (1.3.0)\n",
      "Requirement already satisfied: cffi>=1.14 in c:\\users\\lukasz\\anaconda3\\lib\\site-packages (from trio~=0.17->selenium) (1.17.1)\n",
      "Requirement already satisfied: wsproto>=0.14 in c:\\users\\lukasz\\anaconda3\\lib\\site-packages (from trio-websocket~=0.9->selenium) (1.2.0)\n",
      "Requirement already satisfied: pysocks!=1.5.7,<2.0,>=1.5.6 in c:\\users\\lukasz\\anaconda3\\lib\\site-packages (from urllib3[socks]<3,>=1.26->selenium) (1.7.1)\n",
      "Requirement already satisfied: charset-normalizer<4,>=2 in c:\\users\\lukasz\\anaconda3\\lib\\site-packages (from requests->webdriver_manager) (3.3.2)\n",
      "Requirement already satisfied: pycparser in c:\\users\\lukasz\\anaconda3\\lib\\site-packages (from cffi>=1.14->trio~=0.17->selenium) (2.21)\n",
      "Requirement already satisfied: h11<1,>=0.9.0 in c:\\users\\lukasz\\anaconda3\\lib\\site-packages (from wsproto>=0.14->trio-websocket~=0.9->selenium) (0.14.0)\n"
     ]
    }
   ],
   "source": [
    "!pip install selenium webdriver_manager"
   ]
  },
  {
   "cell_type": "code",
   "execution_count": 13,
   "id": "d59db363-b050-4839-b620-897248d7188d",
   "metadata": {},
   "outputs": [],
   "source": [
    "# FOR DATA PROCESSING:\n",
    "import pandas as pd\n",
    "import numpy as np\n",
    "\n",
    "# FOR MEASURING COMPUTATION TIME, CREATING FIXED DELAYS:\n",
    "import time\n",
    "\n",
    "# FOR APPLYING SELENIUM:\n",
    "import selenium # Python Selenium\n",
    "from selenium import webdriver # for specifying webdriver\n",
    "\n",
    "from webdriver_manager.firefox import GeckoDriverManager # geckodriver for automatized access to Firefox\n",
    "\n",
    "from selenium.webdriver.chrome.service import Service # needed since Selenium 4.10.0 see: https://github.com/SeleniumHQ/selenium/commit/9f5801c82fb3be3d5850707c46c3f8176e3ccd8e\n",
    "\n",
    "from selenium.webdriver.support.ui import WebDriverWait # this three enable waiting until sth is displayed on website\n",
    "from selenium.webdriver.support import expected_conditions as EC # for checking visibility of an element\n",
    "from selenium.webdriver.common.by import By # for checking element visibility by XPath\n",
    "\n",
    "# FOR SAVING DATA:\n",
    "import pickle # pickle format of saved output\n",
    "\n",
    "def save_object(obj, filename): #  function defined for saving Python objects\n",
    "    with open(filename, 'wb') as output: # overwrites any existing file\n",
    "        pickle.dump(obj, output, pickle.HIGHEST_PROTOCOL)"
   ]
  },
  {
   "cell_type": "code",
   "execution_count": 61,
   "id": "e5121fe1-5bcc-42dd-b787-1f20b4c5c25f",
   "metadata": {},
   "outputs": [],
   "source": [
    "# Open Website\n",
    "website = \"https://www.ticketmaster.com/discover/concerts\"\n",
    "\n",
    "service_firefox = Service(executable_path = firefoxpath) \n",
    "options_firefox = webdriver.FirefoxOptions()\n",
    "driver_firefox = webdriver.Firefox(service = service_firefox, options = options_firefox) # opens Firefox\n",
    "\n",
    "driver_firefox.maximize_window() # maximizes browser's window\n",
    "driver_firefox.get(website) # opens a website"
   ]
  },
  {
   "cell_type": "code",
   "execution_count": 15,
   "id": "66090bed-4e46-4061-8991-026a08c795dd",
   "metadata": {},
   "outputs": [
    {
     "name": "stdout",
     "output_type": "stream",
     "text": [
      "C:\\Users\\Lukasz\\.wdm\\drivers\\geckodriver\\win64\\v0.36.0\\geckodriver.exe\n"
     ]
    }
   ],
   "source": [
    "# Setting driver manager for firefox\n",
    "firefoxpath = GeckoDriverManager().install(); print(firefoxpath)"
   ]
  },
  {
   "cell_type": "code",
   "execution_count": 63,
   "id": "287e4bf1-c8a8-4e2c-aef4-5c6d97592e4f",
   "metadata": {},
   "outputs": [],
   "source": [
    "# Accept Cookies\n",
    "cookies_button_xpath = '''//*[@id='onetrust-accept-btn-handler']'''\n",
    "\n",
    "# wait at most 30 seconds until cookies button is visible\n",
    "WebDriverWait(driver_firefox, 30).until(EC.visibility_of_element_located((By.XPATH, cookies_button_xpath))) \n",
    "\n",
    "# + wait random time drawn from specific (strongly right-side-skewed) distribution to better imitate human behavior\n",
    "time.sleep(np.random.chisquare(1)+3)\n",
    "\n",
    "content = driver_firefox.find_element(\"xpath\", cookies_button_xpath) # finds the button\n",
    "content.click() # clicks the button"
   ]
  },
  {
   "cell_type": "code",
   "execution_count": 65,
   "id": "b47e153d",
   "metadata": {},
   "outputs": [],
   "source": [
    "start = time.time()\n",
    "# + wait random time drawn from specific (strongly right-side-skewed) distribution to better imitate human behavior\n",
    "time.sleep(np.random.chisquare(1)+3)\n",
    "\n",
    "# Step 1: Click the button (//div[@class='sc-517d4ffa-0 iAGgnt'])\n",
    "target_button_xpath = \"//div[@class='sc-517d4ffa-0 iAGgnt']\"\n",
    "target_button = WebDriverWait(driver_firefox, 4).until(\n",
    "    EC.element_to_be_clickable((By.XPATH, target_button_xpath))\n",
    ")\n",
    "target_button.click()"
   ]
  },
  {
   "cell_type": "code",
   "execution_count": 67,
   "id": "ab8fad0c",
   "metadata": {},
   "outputs": [],
   "source": [
    "search_input_xpath = \"//input[@class='sc-eb59abf5-7 bhvzZz']\"\n",
    "search_box = WebDriverWait(driver_firefox, 10).until(\n",
    "    EC.presence_of_element_located((By.XPATH, search_input_xpath))\n",
    ")\n",
    "search_box.clear()\n",
    "search_box.send_keys(\"Salt Lake City, UT\")"
   ]
  },
  {
   "cell_type": "code",
   "execution_count": 69,
   "id": "4b4fb3dc",
   "metadata": {},
   "outputs": [],
   "source": [
    "dropdown_option_xpath = \"//li[@id='-172424123']\"\n",
    "dropdown_option = WebDriverWait(driver_firefox, 2).until(\n",
    "    EC.element_to_be_clickable((By.XPATH, dropdown_option_xpath))\n",
    ")\n",
    "dropdown_option.click()"
   ]
  },
  {
   "cell_type": "code",
   "execution_count": 71,
   "id": "214e4739-5208-4640-922b-0bdc7043383c",
   "metadata": {},
   "outputs": [],
   "source": [
    "target_date_xpath = \"//span[@class='sc-61fe2bcc-2 iVxoxI']\"\n",
    "target_date_xpath = WebDriverWait(driver_firefox, 10).until(\n",
    "    EC.element_to_be_clickable((By.XPATH, target_date_xpath))\n",
    ")\n",
    "target_date_xpath.click()"
   ]
  },
  {
   "cell_type": "code",
   "execution_count": 87,
   "id": "81fc5a2b-c4aa-4228-90d2-30241190121f",
   "metadata": {},
   "outputs": [],
   "source": [
    "search_date_xpath = \"//input[@id='startDate-input']\"\n",
    "search_date_box = WebDriverWait(driver_firefox, 10).until(\n",
    "    EC.presence_of_element_located((By.XPATH, search_date_xpath))\n",
    ")\n",
    "search_date_box.clear()\n",
    "search_date_box.send_keys(\"03212025\")"
   ]
  },
  {
   "cell_type": "code",
   "execution_count": 89,
   "id": "3dae99a9-e661-46a2-a7f4-9f3e6e261cb1",
   "metadata": {},
   "outputs": [],
   "source": [
    "search_endDate_xpath = \"//input[@id='endDate-input']\"\n",
    "search_endDate_box = WebDriverWait(driver_firefox, 10).until(\n",
    "    EC.presence_of_element_located((By.XPATH, search_endDate_xpath))\n",
    ")\n",
    "#search_endDate_box.clear()\n",
    "search_endDate_box.send_keys(\"03282025\")"
   ]
  },
  {
   "cell_type": "code",
   "execution_count": 97,
   "id": "4db34794-7e11-480b-9cc0-14ae9f2bd36c",
   "metadata": {},
   "outputs": [],
   "source": [
    "target_apply_xpath = \"//*[@type='submit']\"\n",
    "target_apply_xpath = WebDriverWait(driver_firefox, 10).until(\n",
    "    EC.element_to_be_clickable((By.XPATH, target_apply_xpath))\n",
    ")\n",
    "target_apply_xpath.click()"
   ]
  }
 ],
 "metadata": {
  "kernelspec": {
   "display_name": "Python [conda env:base] *",
   "language": "python",
   "name": "conda-base-py"
  },
  "language_info": {
   "codemirror_mode": {
    "name": "ipython",
    "version": 3
   },
   "file_extension": ".py",
   "mimetype": "text/x-python",
   "name": "python",
   "nbconvert_exporter": "python",
   "pygments_lexer": "ipython3",
   "version": "3.12.7"
  }
 },
 "nbformat": 4,
 "nbformat_minor": 5
}
