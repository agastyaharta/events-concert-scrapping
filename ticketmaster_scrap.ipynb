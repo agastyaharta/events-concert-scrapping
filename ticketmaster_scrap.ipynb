{
 "cells": [
  {
   "cell_type": "code",
   "execution_count": 1,
   "id": "d59db363-b050-4839-b620-897248d7188d",
   "metadata": {},
   "outputs": [],
   "source": [
    "# FOR DATA PROCESSING:\n",
    "import pandas as pd\n",
    "import numpy as np\n",
    "\n",
    "# FOR MEASURING COMPUTATION TIME, CREATING FIXED DELAYS:\n",
    "import time\n",
    "\n",
    "# FOR APPLYING SELENIUM:\n",
    "import selenium # Python Selenium\n",
    "from selenium import webdriver # for specifying webdriver\n",
    "\n",
    "from webdriver_manager.firefox import GeckoDriverManager # geckodriver for automatized access to Firefox\n",
    "\n",
    "from selenium.webdriver.chrome.service import Service # needed since Selenium 4.10.0 see: https://github.com/SeleniumHQ/selenium/commit/9f5801c82fb3be3d5850707c46c3f8176e3ccd8e\n",
    "\n",
    "from selenium.webdriver.support.ui import WebDriverWait # this three enable waiting until sth is displayed on website\n",
    "from selenium.webdriver.support import expected_conditions as EC # for checking visibility of an element\n",
    "from selenium.webdriver.common.by import By # for checking element visibility by XPath\n",
    "\n",
    "# FOR SAVING DATA:\n",
    "import pickle # pickle format of saved output\n",
    "\n",
    "def save_object(obj, filename): #  function defined for saving Python objects\n",
    "    with open(filename, 'wb') as output: # overwrites any existing file\n",
    "        pickle.dump(obj, output, pickle.HIGHEST_PROTOCOL)"
   ]
  },
  {
   "cell_type": "code",
   "execution_count": 2,
   "id": "66090bed-4e46-4061-8991-026a08c795dd",
   "metadata": {},
   "outputs": [
    {
     "name": "stdout",
     "output_type": "stream",
     "text": [
      "/Users/agastyaharta/.wdm/drivers/geckodriver/mac64/v0.36.0/geckodriver\n"
     ]
    }
   ],
   "source": [
    "# Setting driver manager for firefox\n",
    "firefoxpath = GeckoDriverManager().install(); print(firefoxpath)"
   ]
  },
  {
   "cell_type": "code",
   "execution_count": 3,
   "id": "e5121fe1-5bcc-42dd-b787-1f20b4c5c25f",
   "metadata": {},
   "outputs": [],
   "source": [
    "# Open Website\n",
    "website = \"https://www.ticketmaster.com/discover/concerts\"\n",
    "\n",
    "service_firefox = Service(executable_path = firefoxpath) \n",
    "options_firefox = webdriver.FirefoxOptions()\n",
    "driver_firefox = webdriver.Firefox(service = service_firefox, options = options_firefox) # opens Firefox\n",
    "\n",
    "driver_firefox.maximize_window() # maximizes browser's window\n",
    "driver_firefox.get(website) # opens a website"
   ]
  },
  {
   "cell_type": "code",
   "execution_count": 14,
   "id": "287e4bf1-c8a8-4e2c-aef4-5c6d97592e4f",
   "metadata": {},
   "outputs": [],
   "source": [
    "# Accept Cookies\n",
    "cookies_button_xpath = '''//button[@id='onetrust-accept-btn-handler']'''\n",
    "\n",
    "# wait at most 30 seconds until cookies button is visible\n",
    "WebDriverWait(driver_firefox, 30).until(EC.visibility_of_element_located((By.XPATH, cookies_button_xpath))) \n",
    "\n",
    "# + wait random time drawn from specific (strongly right-side-skewed) distribution to better imitate human behavior\n",
    "time.sleep(np.random.chisquare(1)+3)\n",
    "\n",
    "content = driver_firefox.find_element(\"xpath\", cookies_button_xpath) # finds the button\n",
    "content.click() # clicks the button"
   ]
  },
  {
   "cell_type": "code",
   "execution_count": null,
   "id": "b47e153d",
   "metadata": {},
   "outputs": [],
   "source": [
    "# \n",
    "start = time.time()\n",
    "# + wait random time drawn from specific (strongly right-side-skewed) distribution to better imitate human behavior\n",
    "time.sleep(np.random.chisquare(1)+3)\n",
    "\n",
    "target_button_xpath = \"//div[@class='sc-517d4ffa-0 iAGgnt']\"\n",
    "target_button = WebDriverWait(driver_firefox, 10).until(\n",
    "    EC.element_to_be_clickable((By.XPATH, target_button_xpath))\n",
    ")\n",
    "target_button.click()"
   ]
  },
  {
   "cell_type": "code",
   "execution_count": 23,
   "id": "ab8fad0c",
   "metadata": {},
   "outputs": [],
   "source": [
    "search_input_xpath = \"//input[@class='sc-eb59abf5-7 bhvzZz']\"\n",
    "search_box = WebDriverWait(driver_firefox, 10).until(\n",
    "    EC.presence_of_element_located((By.XPATH, search_input_xpath))\n",
    ")\n",
    "search_box.clear()\n",
    "search_box.send_keys(\"Salt Lake City, UT\")"
   ]
  },
  {
   "cell_type": "code",
   "execution_count": 24,
   "id": "4b4fb3dc",
   "metadata": {},
   "outputs": [],
   "source": [
    "dropdown_option_xpath = \"//li[@id='-172424123']\"\n",
    "dropdown_option = WebDriverWait(driver_firefox, 2).until(\n",
    "    EC.element_to_be_clickable((By.XPATH, dropdown_option_xpath))\n",
    ")\n",
    "dropdown_option.click()"
   ]
  },
  {
   "cell_type": "code",
   "execution_count": null,
   "id": "9396642a",
   "metadata": {},
   "outputs": [],
   "source": [
    "target_date_xpath = \"//span[@class='sc-61fe2bcc-2 iVxoxI']\"\n",
    "target_date_xpath = WebDriverWait(driver_firefox, 10).until(\n",
    "    EC.element_to_be_clickable((By.XPATH, target_date_xpath))\n",
    ")\n",
    "target_date_xpath.click()"
   ]
  }
 ],
 "metadata": {
  "kernelspec": {
   "display_name": "Python 3",
   "language": "python",
   "name": "python3"
  },
  "language_info": {
   "codemirror_mode": {
    "name": "ipython",
    "version": 3
   },
   "file_extension": ".py",
   "mimetype": "text/x-python",
   "name": "python",
   "nbconvert_exporter": "python",
   "pygments_lexer": "ipython3",
   "version": "3.12.7"
  }
 },
 "nbformat": 4,
 "nbformat_minor": 5
}
